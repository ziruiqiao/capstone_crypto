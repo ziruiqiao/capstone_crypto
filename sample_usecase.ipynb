{
 "cells": [
  {
   "cell_type": "code",
   "execution_count": 1,
   "id": "initial_id",
   "metadata": {
    "collapsed": true,
    "ExecuteTime": {
     "end_time": "2025-01-30T04:19:40.578197300Z",
     "start_time": "2025-01-30T04:19:38.423832Z"
    }
   },
   "outputs": [],
   "source": [
    "from predict_sentiment_tools import *"
   ]
  },
  {
   "cell_type": "code",
   "execution_count": 2,
   "outputs": [
    {
     "name": "stderr",
     "output_type": "stream",
     "text": [
      "2025-01-29 23:19:40 - predict_sentiment_tools - DEBUG - Fetching Posts...\n",
      "2025-01-29 23:19:59 - predict_sentiment_tools - DEBUG - Posts fetched successfully!!!\n",
      "2025-01-29 23:19:59 - predict_sentiment_tools - DEBUG - Analyzing Post between 2025-01-30 - 2025-01-23 ...\n",
      "2025-01-29 23:19:59 - predict_sentiment_tools - DEBUG - Number of Posts: 20, Sentiment Score: 2.503849695003803\n",
      "2025-01-29 23:19:59 - predict_sentiment_tools - DEBUG - Analyzing Finished ...\n",
      "2025-01-29 23:19:59 - predict_sentiment_tools - DEBUG - Analyzing Post between 2025-01-23 - 2025-01-16 ...\n",
      "2025-01-29 23:19:59 - predict_sentiment_tools - DEBUG - Number of Posts: 28, Sentiment Score: 1.8998208699245323\n",
      "2025-01-29 23:19:59 - predict_sentiment_tools - DEBUG - Analyzing Finished ...\n",
      "2025-01-29 23:19:59 - predict_sentiment_tools - DEBUG - Analyzing Post between 2025-01-16 - 2025-01-09 ...\n",
      "2025-01-29 23:19:59 - predict_sentiment_tools - DEBUG - Number of Posts: 31, Sentiment Score: 2.512146421486763\n",
      "2025-01-29 23:19:59 - predict_sentiment_tools - DEBUG - Analyzing Finished ...\n",
      "2025-01-29 23:19:59 - predict_sentiment_tools - DEBUG - Analyzing Post between 2025-01-09 - 2025-01-02 ...\n",
      "2025-01-29 23:19:59 - predict_sentiment_tools - DEBUG - Number of Posts: 17, Sentiment Score: 3.307385654721639\n",
      "2025-01-29 23:19:59 - predict_sentiment_tools - DEBUG - Analyzing Finished ...\n",
      "2025-01-29 23:19:59 - predict_sentiment_tools - DEBUG - Analyzing Post between 2025-01-02 - 2024-12-26 ...\n",
      "2025-01-29 23:19:59 - predict_sentiment_tools - DEBUG - Number of Posts: 12, Sentiment Score: 1.9635839147737546\n",
      "2025-01-29 23:19:59 - predict_sentiment_tools - DEBUG - Analyzing Finished ...\n"
     ]
    },
    {
     "data": {
      "text/plain": "[2.503849695003803,\n 1.8998208699245323,\n 2.512146421486763,\n 3.307385654721639,\n 1.9635839147737546]"
     },
     "execution_count": 2,
     "metadata": {},
     "output_type": "execute_result"
    }
   ],
   "source": [
    "posts = get_targets_posts(\"ETH\")\n",
    "result = get_sentiment_score_seq(posts)\n",
    "result"
   ],
   "metadata": {
    "collapsed": false,
    "ExecuteTime": {
     "end_time": "2025-01-30T04:19:59.565026600Z",
     "start_time": "2025-01-30T04:19:40.580198500Z"
    }
   },
   "id": "8790043cba354ac5"
  },
  {
   "cell_type": "code",
   "execution_count": null,
   "outputs": [],
   "source": [
    "from langchain.llms import Ollama\n",
    "\n",
    "# Set up the Ollama LLM\n",
    "llm = Ollama(model=\"deepseek-r1:8b\")\n",
    "\n",
    "def build_prompt(crypto_symbol, predict_price, current_price, current_volume, sentiment_score):\n",
    "    string = (f\"Please use the following information provide user a comprehensive suggestion on investment of {crypto_symbol}. \"\n",
    "              f\"The current price for {crypto_symbol} is {current_price}; the predicted price after 1 day is {predict_price}. The volume of it in past 24 hours is {current_volume}. \"\n",
    "              f\"The score which measures people's sentiment on {crypto_symbol} is {sentiment_score}, the normal score is 0.6. \"\n",
    "              f\"Based on these metrics, assess the potential risks and benefits of investing in {crypto_symbol}. \"\n",
    "              f\"Offer actionable suggestions, including whether to buy, hold, or sell, and explain your reasoning considering market conditions, sentiment trends, and price predictions.\")\n",
    "    return string"
   ],
   "metadata": {
    "collapsed": false
   },
   "id": "27e3e2314b6f0e2e"
  }
 ],
 "metadata": {
  "kernelspec": {
   "display_name": "Python 3",
   "language": "python",
   "name": "python3"
  },
  "language_info": {
   "codemirror_mode": {
    "name": "ipython",
    "version": 2
   },
   "file_extension": ".py",
   "mimetype": "text/x-python",
   "name": "python",
   "nbconvert_exporter": "python",
   "pygments_lexer": "ipython2",
   "version": "2.7.6"
  }
 },
 "nbformat": 4,
 "nbformat_minor": 5
}
