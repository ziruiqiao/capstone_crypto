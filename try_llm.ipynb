{
 "cells": [
  {
   "cell_type": "code",
   "execution_count": 54,
   "id": "initial_id",
   "metadata": {
    "collapsed": true,
    "ExecuteTime": {
     "end_time": "2025-01-30T19:51:52.684247400Z",
     "start_time": "2025-01-30T19:51:52.676403700Z"
    }
   },
   "outputs": [],
   "source": [
    "from langchain.llms import Ollama\n",
    "import re, json, time\n",
    "from datetime import datetime\n",
    "from sentiment_predict.sentiment_tools_variables import CRYPTO_MAP\n",
    "from sentiment_predict.predict_sentiment_tools import get_targets_posts, get_sentiment_score_seq\n",
    "\n",
    "# Set up the Ollama LLM\n",
    "llm = Ollama(model=\"deepseek-r1:8b\")\n",
    "llm2 = Ollama(model=\"llama3.1:8b\")\n",
    "\n",
    "def generate_analysis_prompt(data):\n",
    "    string = (f\"Please use the following information provide user a comprehensive suggestion on investment portfolio. \"\n",
    "              f\"Data: {data}\"\n",
    "              f\"The normal sentiment score is 0.6. \"\n",
    "              f\"Assess the potential risks and benefits of investing in {', '.join(data.keys())} based on these metrics.\\n\"\n",
    "              f\"Provide an optimal combination of investments in the listed cryptocurrencies and suggest what percentage of assets should be allocated to each.\\n\"\n",
    "              f\"Offer actionable recommendations—buy, hold, or sell—with reasoning that considers market conditions, sentiment trends, and price predictions.\")\n",
    "    return string\n",
    "\n",
    "def extract_info_prompt(user_input):\n",
    "    prompt = (f\"Extract a list of cryptocurrency symbols and the datetime from the following user input. \"\n",
    "              f\"If no datetime is provided, return 'now'. \"\n",
    "              f\"If no crypto symbols are found, return an empty list. \"\n",
    "              f\"Respond ONLY in JSON format with keys: crypto_symbols (list of strings) and datetime (string in format YYYY-MM-DD HH:MM:SS). \"\n",
    "              f\"\\n\\nUser Input:\\n{user_input}\\n\\n\"\n",
    "              f\"Your Response (strictly JSON format, no explanation)\\nExample Output: \\n\"\n",
    "              \"```json{'crypto_symbols': [], 'datetime': 'now'}```\\nor\\n\"\n",
    "              \"```json{'crypto_symbols': ['BTC', 'ETC'], 'datetime': '2025-01-30 14:25:00'}```\")\n",
    "    return prompt\n",
    "\n",
    "def parse_dict_from_string(text):\n",
    "    match = re.search(r\"```json\\n({.*?})\\n```\", text, re.DOTALL)\n",
    "\n",
    "    if match:\n",
    "        json_str = match.group(1)  # Extract the JSON string\n",
    "        output_dict = json.loads(json_str)  # Convert to dictionary\n",
    "        return output_dict\n",
    "    else:\n",
    "        raise TypeError(\"No JSON found\")\n",
    "\n",
    "def extract_info(user_input):\n",
    "    prompt = extract_info_prompt(user_input)\n",
    "    response = llm2.invoke(prompt)\n",
    "    try:\n",
    "        result = parse_dict_from_string(response)\n",
    "    except TypeError:\n",
    "        raise TypeError(\"Internal Error: Parse Json Data...\")\n",
    "\n",
    "    if len(result['crypto_symbols']) == 0:\n",
    "        raise ValueError(\"Please State What crypto you want to analyze...\")\n",
    "    else:\n",
    "        not_in_list2 = [item for item in result['crypto_symbols'] if item not in list(CRYPTO_MAP.keys())]\n",
    "        if len(not_in_list2) > 0:\n",
    "            raise ValueError(f\"{not_in_list2} data is currently not available, Please change.\")\n",
    "        else:\n",
    "            crypto_symbols = result['crypto_symbols']\n",
    "            current_time = result['datetime']\n",
    "            if current_time == \"now\":\n",
    "                current_time = int(time.time())\n",
    "            else:\n",
    "                current_time = datetime.utcfromtimestamp(current_time).strftime('%Y-%m-%d %H:%M:%S')\n",
    "            return crypto_symbols, current_time\n",
    "\n",
    "\n",
    "def portfolio_suggest_agent(text, sentiment_seq_num=5):\n",
    "    # extract info from user input\n",
    "    try:\n",
    "        crypto_symbols, current_time = extract_info(text)\n",
    "    except ValueError as e:\n",
    "        return str(e)\n",
    "\n",
    "    result = []\n",
    "\n",
    "    for crypto in crypto_symbols:\n",
    "        # Predict Current Sentiments\n",
    "        posts = get_targets_posts(crypto) # get the lastest 35 days news\n",
    "        sentiment_seq = get_sentiment_score_seq(posts, current_time=current_time, seq_num=sentiment_seq_num)\n",
    "\n",
    "        # model 1 predict & feature engineering\n",
    "\n",
    "        # save data\n",
    "        result[crypto] = {\n",
    "            \"Crypto Symbol\": crypto,\n",
    "            f\"Market Sentiments in past {7*sentiment_seq_num} days\": sentiment_seq,\n",
    "            \"Predicted Price after 1 day\": 1000,\n",
    "            \"Current Price\": 1000,\n",
    "            \"Market Volume\": 1000,\n",
    "        }\n",
    "\n",
    "    # LLM analyze\n",
    "    prompt = extract_info_prompt(result)\n",
    "    return llm.invoke(prompt)"
   ]
  },
  {
   "cell_type": "code",
   "execution_count": 52,
   "outputs": [
    {
     "ename": "ValueError",
     "evalue": "Please State What crypto you want to analyze...",
     "output_type": "error",
     "traceback": [
      "\u001B[1;31m---------------------------------------------------------------------------\u001B[0m",
      "\u001B[1;31mValueError\u001B[0m                                Traceback (most recent call last)",
      "Cell \u001B[1;32mIn[52], line 1\u001B[0m\n\u001B[1;32m----> 1\u001B[0m extract_info(\u001B[38;5;124m\"\u001B[39m\u001B[38;5;124mHow is weather today?\u001B[39m\u001B[38;5;124m\"\u001B[39m)\n",
      "Cell \u001B[1;32mIn[51], line 50\u001B[0m, in \u001B[0;36mextract_info\u001B[1;34m(user_input)\u001B[0m\n\u001B[0;32m     47\u001B[0m     \u001B[38;5;28;01mraise\u001B[39;00m \u001B[38;5;167;01mTypeError\u001B[39;00m(\u001B[38;5;124m\"\u001B[39m\u001B[38;5;124mInternal Error: Parse Json Data...\u001B[39m\u001B[38;5;124m\"\u001B[39m)\n\u001B[0;32m     49\u001B[0m \u001B[38;5;28;01mif\u001B[39;00m \u001B[38;5;28mlen\u001B[39m(result[\u001B[38;5;124m'\u001B[39m\u001B[38;5;124mcrypto_symbols\u001B[39m\u001B[38;5;124m'\u001B[39m]) \u001B[38;5;241m==\u001B[39m \u001B[38;5;241m0\u001B[39m:\n\u001B[1;32m---> 50\u001B[0m     \u001B[38;5;28;01mraise\u001B[39;00m \u001B[38;5;167;01mValueError\u001B[39;00m(\u001B[38;5;124m\"\u001B[39m\u001B[38;5;124mPlease State What crypto you want to analyze...\u001B[39m\u001B[38;5;124m\"\u001B[39m)\n\u001B[0;32m     51\u001B[0m \u001B[38;5;28;01melse\u001B[39;00m:\n\u001B[0;32m     52\u001B[0m     not_in_list2 \u001B[38;5;241m=\u001B[39m [item \u001B[38;5;28;01mfor\u001B[39;00m item \u001B[38;5;129;01min\u001B[39;00m result[\u001B[38;5;124m'\u001B[39m\u001B[38;5;124mcrypto_symbols\u001B[39m\u001B[38;5;124m'\u001B[39m] \u001B[38;5;28;01mif\u001B[39;00m item \u001B[38;5;129;01mnot\u001B[39;00m \u001B[38;5;129;01min\u001B[39;00m \u001B[38;5;28mlist\u001B[39m(CRYPTO_MAP\u001B[38;5;241m.\u001B[39mkeys())]\n",
      "\u001B[1;31mValueError\u001B[0m: Please State What crypto you want to analyze..."
     ]
    }
   ],
   "source": [
    "extract_info(\"How is weather today?\")"
   ],
   "metadata": {
    "collapsed": false,
    "ExecuteTime": {
     "end_time": "2025-01-30T19:51:30.015024900Z",
     "start_time": "2025-01-30T19:51:24.466163600Z"
    }
   },
   "id": "a3b46f54312e496d"
  },
  {
   "cell_type": "code",
   "execution_count": 55,
   "outputs": [
    {
     "data": {
      "text/plain": "(['BTC', 'ETC', 'DOGE'], 1738266718)"
     },
     "execution_count": 55,
     "metadata": {},
     "output_type": "execute_result"
    }
   ],
   "source": [
    "extract_info(\"Any suggestion to invest on btc, ETC and DOGE?\")"
   ],
   "metadata": {
    "collapsed": false,
    "ExecuteTime": {
     "end_time": "2025-01-30T19:51:58.719651900Z",
     "start_time": "2025-01-30T19:51:54.183841400Z"
    }
   },
   "id": "f58ff5acf528b3e"
  },
  {
   "cell_type": "code",
   "execution_count": null,
   "outputs": [],
   "source": [],
   "metadata": {
    "collapsed": false
   },
   "id": "e59c33a219936ae7"
  }
 ],
 "metadata": {
  "kernelspec": {
   "display_name": "Python 3",
   "language": "python",
   "name": "python3"
  },
  "language_info": {
   "codemirror_mode": {
    "name": "ipython",
    "version": 2
   },
   "file_extension": ".py",
   "mimetype": "text/x-python",
   "name": "python",
   "nbconvert_exporter": "python",
   "pygments_lexer": "ipython2",
   "version": "2.7.6"
  }
 },
 "nbformat": 4,
 "nbformat_minor": 5
}
