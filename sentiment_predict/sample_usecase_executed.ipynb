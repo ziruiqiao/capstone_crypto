{
 "cells": [
  {
   "cell_type": "code",
   "execution_count": 1,
   "id": "initial_id",
   "metadata": {
    "execution": {
     "iopub.execute_input": "2025-02-11T19:07:52.577624Z",
     "iopub.status.busy": "2025-02-11T19:07:52.577624Z",
     "iopub.status.idle": "2025-02-11T19:07:54.582264Z",
     "shell.execute_reply": "2025-02-11T19:07:54.582264Z"
    }
   },
   "outputs": [],
   "source": [
    "import sys\n",
    "sys.path.append('..')\n",
    "from sentiment_predict.predict_sentiment_tools import *"
   ]
  },
  {
   "cell_type": "code",
   "execution_count": 2,
   "id": "8790043cba354ac5",
   "metadata": {
    "execution": {
     "iopub.execute_input": "2025-02-11T19:07:54.586262Z",
     "iopub.status.busy": "2025-02-11T19:07:54.586262Z",
     "iopub.status.idle": "2025-02-11T19:08:16.171428Z",
     "shell.execute_reply": "2025-02-11T19:08:16.171428Z"
    }
   },
   "outputs": [
    {
     "data": {
      "text/plain": [
       "[2.3218116766353547,\n",
       " 2.0713743240309253,\n",
       " 2.329922004157791,\n",
       " 2.195468353491976,\n",
       " 2.1328687270754787]"
      ]
     },
     "execution_count": 2,
     "metadata": {},
     "output_type": "execute_result"
    }
   ],
   "source": [
    "posts = get_targets_posts(\"ETH\")\n",
    "result = get_sentiment_score_seq(posts)\n",
    "result"
   ]
  },
  {
   "cell_type": "code",
   "execution_count": 3,
   "id": "b693ad0fd5b5a73a",
   "metadata": {
    "execution": {
     "iopub.execute_input": "2025-02-11T19:08:16.175441Z",
     "iopub.status.busy": "2025-02-11T19:08:16.174441Z",
     "iopub.status.idle": "2025-02-11T19:08:19.677544Z",
     "shell.execute_reply": "2025-02-11T19:08:19.677544Z"
    }
   },
   "outputs": [
    {
     "name": "stderr",
     "output_type": "stream",
     "text": [
      "2025-02-11 14:08:16 - numexpr.utils - INFO - Note: NumExpr detected 16 cores but \"NUMEXPR_MAX_THREADS\" not set, so enforcing safe limit of 8.\n",
      "2025-02-11 14:08:16 - numexpr.utils - INFO - NumExpr defaulting to 8 threads.\n",
      "2025-02-11 14:08:17 - datasets - INFO - PyTorch version 2.5.1 available.\n",
      "2025-02-11 14:08:17 - datasets - INFO - Polars version 0.20.8 available.\n",
      "2025-02-11 14:08:17 - datasets - INFO - TensorFlow version 2.17.0 available.\n"
     ]
    },
    {
     "name": "stdout",
     "output_type": "stream",
     "text": [
      "Training samples: 10200\n",
      "Validation samples: 1275\n",
      "Test samples: 1275\n"
     ]
    }
   ],
   "source": [
    "import pandas as pd\n",
    "from sklearn.model_selection import train_test_split\n",
    "from datasets import load_dataset\n",
    "\n",
    "# Load dataset from Hugging Face\n",
    "dataset = load_dataset(\"arad1367/Crypto_Fundamental_News\")\n",
    "df = pd.DataFrame(dataset['train'])\n",
    "\n",
    "label_mapping = {\"positive\": 2, \"neutral\": 1, \"negative\": 0}\n",
    "df[\"label\"] = df[\"label\"].map(label_mapping)\n",
    "\n",
    "train_texts, temp_texts, train_labels, temp_labels = train_test_split(\n",
    "    df[\"text\"].tolist(), df[\"label\"].tolist(), test_size=0.2, random_state=42\n",
    ")\n",
    "\n",
    "val_texts, test_texts, val_labels, test_labels = train_test_split(\n",
    "    temp_texts, temp_labels, test_size=0.5, random_state=42\n",
    ")\n",
    "\n",
    "print(f\"Training samples: {len(train_texts)}\")\n",
    "print(f\"Validation samples: {len(val_texts)}\")\n",
    "print(f\"Test samples: {len(test_texts)}\")"
   ]
  },
  {
   "cell_type": "code",
   "execution_count": 4,
   "id": "1a01c34543fed873",
   "metadata": {
    "execution": {
     "iopub.execute_input": "2025-02-11T19:08:19.682537Z",
     "iopub.status.busy": "2025-02-11T19:08:19.681536Z",
     "iopub.status.idle": "2025-02-11T19:08:45.690131Z",
     "shell.execute_reply": "2025-02-11T19:08:45.689386Z"
    }
   },
   "outputs": [
    {
     "name": "stderr",
     "output_type": "stream",
     "text": [
      "2025-02-11 14:08:39 - tensorflow - WARNING - From D:\\Anaconda3\\Lib\\site-packages\\tf_keras\\src\\losses.py:2976: The name tf.losses.sparse_softmax_cross_entropy is deprecated. Please use tf.compat.v1.losses.sparse_softmax_cross_entropy instead.\n",
      "\n",
      "Some weights of DebertaV2ForSequenceClassification were not initialized from the model checkpoint at microsoft/deberta-v3-base and are newly initialized: ['classifier.bias', 'classifier.weight', 'pooler.dense.bias', 'pooler.dense.weight']\n",
      "You should probably TRAIN this model on a down-stream task to be able to use it for predictions and inference.\n"
     ]
    }
   ],
   "source": [
    "import torch\n",
    "from transformers import AutoTokenizer, AutoModelForSequenceClassification, Trainer, TrainingArguments\n",
    "from torch.utils.data import DataLoader\n",
    "\n",
    "# Load tokenizer and model\n",
    "model_name = \"microsoft/deberta-v3-base\"\n",
    "tokenizer = AutoTokenizer.from_pretrained(model_name)\n",
    "model = AutoModelForSequenceClassification.from_pretrained(\n",
    "    model_name, \n",
    "    num_labels=3,\n",
    "    ignore_mismatched_sizes=True\n",
    ")"
   ]
  },
  {
   "cell_type": "code",
   "execution_count": 5,
   "id": "fed2560a6996efa6",
   "metadata": {
    "execution": {
     "iopub.execute_input": "2025-02-11T19:08:45.693646Z",
     "iopub.status.busy": "2025-02-11T19:08:45.693646Z",
     "iopub.status.idle": "2025-02-11T19:08:46.800109Z",
     "shell.execute_reply": "2025-02-11T19:08:46.800109Z"
    }
   },
   "outputs": [],
   "source": [
    "train_encodings = tokenizer(train_texts, truncation=True, padding=True, max_length=512)\n",
    "val_encodings = tokenizer(val_texts, truncation=True, padding=True, max_length=512)\n",
    "test_encodings = tokenizer(test_texts, truncation=True, padding=True, max_length=512)\n",
    "\n",
    "class CustomDataset(torch.utils.data.Dataset):\n",
    "    def __init__(self, encodings, labels):\n",
    "        self.encodings = encodings\n",
    "        self.labels = labels\n",
    "\n",
    "    def __len__(self):\n",
    "        return len(self.labels)\n",
    "\n",
    "    def __getitem__(self, idx):\n",
    "        item = {key: torch.tensor(val[idx]) for key, val in self.encodings.items()}\n",
    "        item[\"labels\"] = torch.tensor(self.labels[idx])\n",
    "        return item\n",
    "\n",
    "train_dataset = CustomDataset(train_encodings, train_labels)\n",
    "val_dataset = CustomDataset(val_encodings, val_labels)\n",
    "test_dataset = CustomDataset(test_encodings, test_labels)"
   ]
  },
  {
   "cell_type": "code",
   "execution_count": 6,
   "id": "7a3f5724ddb59aec",
   "metadata": {
    "execution": {
     "iopub.execute_input": "2025-02-11T19:08:46.804121Z",
     "iopub.status.busy": "2025-02-11T19:08:46.804121Z",
     "iopub.status.idle": "2025-02-11T19:08:47.536385Z",
     "shell.execute_reply": "2025-02-11T19:08:47.536385Z"
    }
   },
   "outputs": [
    {
     "name": "stderr",
     "output_type": "stream",
     "text": [
      "comet_ml version 3.43.0 is installed, but version 3.43.2 or higher is required. Please update comet_ml to the latest version to enable Comet logging with pip install 'comet-ml>=3.43.2'.\n"
     ]
    }
   ],
   "source": [
    "training_args = TrainingArguments(\n",
    "    output_dir=\"./results\",\n",
    "    evaluation_strategy=\"epoch\",\n",
    "    save_strategy=\"epoch\",\n",
    "    per_device_train_batch_size=8,\n",
    "    per_device_eval_batch_size=8,\n",
    "    num_train_epochs=3,\n",
    "    logging_dir=\"./logs\",\n",
    "    logging_steps=10,\n",
    "    load_best_model_at_end=True,\n",
    "    save_total_limit=1,\n",
    ")\n",
    "\n",
    "trainer = Trainer(\n",
    "    model=model,\n",
    "    args=training_args,\n",
    "    train_dataset=train_dataset,\n",
    "    eval_dataset=val_dataset\n",
    ")"
   ]
  },
  {
   "cell_type": "code",
   "execution_count": 7,
   "id": "9c38a228d4dd4eaa",
   "metadata": {
    "execution": {
     "iopub.execute_input": "2025-02-11T19:08:47.540381Z",
     "iopub.status.busy": "2025-02-11T19:08:47.539384Z",
     "iopub.status.idle": "2025-02-11T22:20:38.488958Z",
     "shell.execute_reply": "2025-02-11T22:20:38.486053Z"
    }
   },
   "outputs": [
    {
     "data": {
      "text/html": [
       "\n",
       "    <div>\n",
       "      \n",
       "      <progress value='3825' max='3825' style='width:300px; height:20px; vertical-align: middle;'></progress>\n",
       "      [3825/3825 3:11:49, Epoch 3/3]\n",
       "    </div>\n",
       "    <table border=\"1\" class=\"dataframe\">\n",
       "  <thead>\n",
       " <tr style=\"text-align: left;\">\n",
       "      <th>Epoch</th>\n",
       "      <th>Training Loss</th>\n",
       "      <th>Validation Loss</th>\n",
       "    </tr>\n",
       "  </thead>\n",
       "  <tbody>\n",
       "    <tr>\n",
       "      <td>1</td>\n",
       "      <td>1.060900</td>\n",
       "      <td>1.055535</td>\n",
       "    </tr>\n",
       "    <tr>\n",
       "      <td>2</td>\n",
       "      <td>1.089400</td>\n",
       "      <td>1.041521</td>\n",
       "    </tr>\n",
       "    <tr>\n",
       "      <td>3</td>\n",
       "      <td>1.055500</td>\n",
       "      <td>1.042430</td>\n",
       "    </tr>\n",
       "  </tbody>\n",
       "</table><p>"
      ],
      "text/plain": [
       "<IPython.core.display.HTML object>"
      ]
     },
     "metadata": {},
     "output_type": "display_data"
    },
    {
     "data": {
      "text/plain": [
       "TrainOutput(global_step=3825, training_loss=1.0529288278218187, metrics={'train_runtime': 11510.4571, 'train_samples_per_second': 2.658, 'train_steps_per_second': 0.332, 'total_flos': 1651169085930000.0, 'train_loss': 1.0529288278218187, 'epoch': 3.0})"
      ]
     },
     "execution_count": 7,
     "metadata": {},
     "output_type": "execute_result"
    }
   ],
   "source": [
    "trainer.train()"
   ]
  },
  {
   "cell_type": "code",
   "execution_count": 8,
   "id": "ee466a383a7a191f",
   "metadata": {
    "execution": {
     "iopub.execute_input": "2025-02-11T22:20:38.497956Z",
     "iopub.status.busy": "2025-02-11T22:20:38.496956Z",
     "iopub.status.idle": "2025-02-11T22:20:45.461283Z",
     "shell.execute_reply": "2025-02-11T22:20:45.461283Z"
    }
   },
   "outputs": [
    {
     "data": {
      "text/html": [
       "\n",
       "    <div>\n",
       "      \n",
       "      <progress value='160' max='160' style='width:300px; height:20px; vertical-align: middle;'></progress>\n",
       "      [160/160 00:06]\n",
       "    </div>\n",
       "    "
      ],
      "text/plain": [
       "<IPython.core.display.HTML object>"
      ]
     },
     "metadata": {},
     "output_type": "display_data"
    },
    {
     "data": {
      "text/plain": [
       "{'eval_loss': 1.0389422178268433,\n",
       " 'eval_runtime': 6.9342,\n",
       " 'eval_samples_per_second': 183.871,\n",
       " 'eval_steps_per_second': 23.074,\n",
       " 'epoch': 3.0}"
      ]
     },
     "execution_count": 8,
     "metadata": {},
     "output_type": "execute_result"
    }
   ],
   "source": [
    "trainer.evaluate(test_dataset)"
   ]
  },
  {
   "cell_type": "code",
   "execution_count": 9,
   "id": "43223a856e80bccc",
   "metadata": {
    "execution": {
     "iopub.execute_input": "2025-02-11T22:20:45.464284Z",
     "iopub.status.busy": "2025-02-11T22:20:45.464284Z",
     "iopub.status.idle": "2025-02-11T22:20:45.471381Z",
     "shell.execute_reply": "2025-02-11T22:20:45.471381Z"
    }
   },
   "outputs": [],
   "source": [
    "def predict(text):\n",
    "    device = torch.device(\"cuda\" if torch.cuda.is_available() else \"cpu\")\n",
    "    \n",
    "    inputs = tokenizer(text, return_tensors=\"pt\", truncation=True, padding=True, max_length=512)\n",
    "    inputs = {key: val.to(device) for key, val in inputs.items()}\n",
    "\n",
    "    model.to(device)\n",
    "    model.eval()\n",
    "\n",
    "    with torch.no_grad():\n",
    "        outputs = model(**inputs)\n",
    "\n",
    "    probabilities = torch.nn.functional.softmax(outputs.logits, dim=-1)\n",
    "    predicted_index = torch.argmax(probabilities).item()\n",
    "    confidence = probabilities[0, predicted_index].item()\n",
    "    predicted_label = list(label_mapping.keys())[list(label_mapping.values()).index(predicted_index)]\n",
    "\n",
    "    return predicted_label, confidence"
   ]
  },
  {
   "cell_type": "code",
   "execution_count": 10,
   "id": "aa49f18945246342",
   "metadata": {
    "execution": {
     "iopub.execute_input": "2025-02-11T22:20:45.474380Z",
     "iopub.status.busy": "2025-02-11T22:20:45.474380Z",
     "iopub.status.idle": "2025-02-11T22:20:57.171137Z",
     "shell.execute_reply": "2025-02-11T22:20:57.171137Z"
    }
   },
   "outputs": [],
   "source": [
    "post = get_targets_posts(\"btc\")"
   ]
  },
  {
   "cell_type": "code",
   "execution_count": 11,
   "id": "7f76a87b4782b677",
   "metadata": {
    "execution": {
     "iopub.execute_input": "2025-02-11T22:20:57.175137Z",
     "iopub.status.busy": "2025-02-11T22:20:57.174137Z",
     "iopub.status.idle": "2025-02-11T22:20:57.179347Z",
     "shell.execute_reply": "2025-02-11T22:20:57.179347Z"
    }
   },
   "outputs": [],
   "source": [
    "texts = []\n",
    "for item in post:\n",
    "    content = item.__dict__['selftext']\n",
    "    title = item.__dict__['title']\n",
    "    texts.append((title, content))"
   ]
  },
  {
   "cell_type": "code",
   "execution_count": 12,
   "id": "3f43329527b98626",
   "metadata": {
    "execution": {
     "iopub.execute_input": "2025-02-11T22:20:57.182347Z",
     "iopub.status.busy": "2025-02-11T22:20:57.182347Z",
     "iopub.status.idle": "2025-02-11T22:20:57.580115Z",
     "shell.execute_reply": "2025-02-11T22:20:57.580115Z"
    }
   },
   "outputs": [
    {
     "data": {
      "text/plain": [
       "('positive', 0.464051753282547)"
      ]
     },
     "execution_count": 12,
     "metadata": {},
     "output_type": "execute_result"
    }
   ],
   "source": [
    "predict(\" \".join(texts[4]))"
   ]
  }
 ],
 "metadata": {
  "kernelspec": {
   "display_name": "base",
   "language": "python",
   "name": "python3"
  },
  "language_info": {
   "codemirror_mode": {
    "name": "ipython",
    "version": 3
   },
   "file_extension": ".py",
   "mimetype": "text/x-python",
   "name": "python",
   "nbconvert_exporter": "python",
   "pygments_lexer": "ipython3",
   "version": "3.11.5"
  }
 },
 "nbformat": 4,
 "nbformat_minor": 5
}
